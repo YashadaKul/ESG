{
 "cells": [
  {
   "cell_type": "markdown",
   "id": "b57bff84-2e8f-4b71-b5f7-9787114c591c",
   "metadata": {},
   "source": [
    "## Import Data"
   ]
  },
  {
   "cell_type": "code",
   "execution_count": 1,
   "id": "419bfe48-5f43-4adb-a968-cdba200e20d4",
   "metadata": {},
   "outputs": [],
   "source": [
    "# Import dependencies\n",
    "import pandas as pd\n",
    "from pathlib import Path"
   ]
  },
  {
   "cell_type": "code",
   "execution_count": 2,
   "id": "53a615b0-69a9-4bfc-b219-3967f457d14e",
   "metadata": {},
   "outputs": [],
   "source": [
    "#Specify the path\n",
    "raw_file = Path(\"./../Resources/WorldESGData2024.csv\")"
   ]
  },
  {
   "cell_type": "code",
   "execution_count": 3,
   "id": "e4c777d2-92d1-495e-8c96-84917f308945",
   "metadata": {},
   "outputs": [],
   "source": [
    "#Read the file\n",
    "raw_data = pd.read_csv(raw_file)"
   ]
  },
  {
   "cell_type": "code",
   "execution_count": 4,
   "id": "f1b7ae1c-262b-4c15-b905-9312e11562d7",
   "metadata": {},
   "outputs": [
    {
     "data": {
      "text/html": [
       "<div>\n",
       "<style scoped>\n",
       "    .dataframe tbody tr th:only-of-type {\n",
       "        vertical-align: middle;\n",
       "    }\n",
       "\n",
       "    .dataframe tbody tr th {\n",
       "        vertical-align: top;\n",
       "    }\n",
       "\n",
       "    .dataframe thead th {\n",
       "        text-align: right;\n",
       "    }\n",
       "</style>\n",
       "<table border=\"1\" class=\"dataframe\">\n",
       "  <thead>\n",
       "    <tr style=\"text-align: right;\">\n",
       "      <th></th>\n",
       "      <th>Country Name</th>\n",
       "      <th>Country Code</th>\n",
       "      <th>Series Name</th>\n",
       "      <th>Series Code</th>\n",
       "      <th>2003 [YR2003]</th>\n",
       "      <th>2004 [YR2004]</th>\n",
       "      <th>2005 [YR2005]</th>\n",
       "      <th>2006 [YR2006]</th>\n",
       "      <th>2007 [YR2007]</th>\n",
       "      <th>2008 [YR2008]</th>\n",
       "      <th>...</th>\n",
       "      <th>2014 [YR2014]</th>\n",
       "      <th>2015 [YR2015]</th>\n",
       "      <th>2016 [YR2016]</th>\n",
       "      <th>2017 [YR2017]</th>\n",
       "      <th>2018 [YR2018]</th>\n",
       "      <th>2019 [YR2019]</th>\n",
       "      <th>2020 [YR2020]</th>\n",
       "      <th>2021 [YR2021]</th>\n",
       "      <th>2022 [YR2022]</th>\n",
       "      <th>2023 [YR2023]</th>\n",
       "    </tr>\n",
       "  </thead>\n",
       "  <tbody>\n",
       "    <tr>\n",
       "      <th>0</th>\n",
       "      <td>Afghanistan</td>\n",
       "      <td>AFG</td>\n",
       "      <td>Access to clean fuels and technologies for coo...</td>\n",
       "      <td>EG.CFT.ACCS.ZS</td>\n",
       "      <td>10</td>\n",
       "      <td>11.1</td>\n",
       "      <td>12.5</td>\n",
       "      <td>13.9</td>\n",
       "      <td>15.3</td>\n",
       "      <td>16.8</td>\n",
       "      <td>...</td>\n",
       "      <td>25.7</td>\n",
       "      <td>27.25</td>\n",
       "      <td>28.5</td>\n",
       "      <td>30</td>\n",
       "      <td>31.1</td>\n",
       "      <td>32.45</td>\n",
       "      <td>33.8</td>\n",
       "      <td>35.4</td>\n",
       "      <td>..</td>\n",
       "      <td>..</td>\n",
       "    </tr>\n",
       "    <tr>\n",
       "      <th>1</th>\n",
       "      <td>Afghanistan</td>\n",
       "      <td>AFG</td>\n",
       "      <td>Access to electricity (% of population)</td>\n",
       "      <td>EG.ELC.ACCS.ZS</td>\n",
       "      <td>18.9711647</td>\n",
       "      <td>23.81418228</td>\n",
       "      <td>28.66967201</td>\n",
       "      <td>33.54441833</td>\n",
       "      <td>38.44000244</td>\n",
       "      <td>42.4</td>\n",
       "      <td>...</td>\n",
       "      <td>89.5</td>\n",
       "      <td>71.5</td>\n",
       "      <td>97.7</td>\n",
       "      <td>97.7</td>\n",
       "      <td>93.43087769</td>\n",
       "      <td>97.7</td>\n",
       "      <td>97.7</td>\n",
       "      <td>97.7</td>\n",
       "      <td>..</td>\n",
       "      <td>..</td>\n",
       "    </tr>\n",
       "    <tr>\n",
       "      <th>2</th>\n",
       "      <td>Afghanistan</td>\n",
       "      <td>AFG</td>\n",
       "      <td>Adjusted savings: natural resources depletion ...</td>\n",
       "      <td>NY.ADJ.DRES.GN.ZS</td>\n",
       "      <td>..</td>\n",
       "      <td>..</td>\n",
       "      <td>..</td>\n",
       "      <td>..</td>\n",
       "      <td>..</td>\n",
       "      <td>..</td>\n",
       "      <td>...</td>\n",
       "      <td>0.315570916</td>\n",
       "      <td>0.290260985</td>\n",
       "      <td>0.363282086</td>\n",
       "      <td>0.350879165</td>\n",
       "      <td>0.401052962</td>\n",
       "      <td>0.370130823</td>\n",
       "      <td>0.243668383</td>\n",
       "      <td>0.335934935</td>\n",
       "      <td>..</td>\n",
       "      <td>..</td>\n",
       "    </tr>\n",
       "    <tr>\n",
       "      <th>3</th>\n",
       "      <td>Afghanistan</td>\n",
       "      <td>AFG</td>\n",
       "      <td>Adjusted savings: net forest depletion (% of GNI)</td>\n",
       "      <td>NY.ADJ.DFOR.GN.ZS</td>\n",
       "      <td>..</td>\n",
       "      <td>..</td>\n",
       "      <td>..</td>\n",
       "      <td>..</td>\n",
       "      <td>..</td>\n",
       "      <td>..</td>\n",
       "      <td>...</td>\n",
       "      <td>0.216608988</td>\n",
       "      <td>0.232761963</td>\n",
       "      <td>0.284781431</td>\n",
       "      <td>0.229821541</td>\n",
       "      <td>0.237614662</td>\n",
       "      <td>0.269353221</td>\n",
       "      <td>0.23795819</td>\n",
       "      <td>0.317732055</td>\n",
       "      <td>..</td>\n",
       "      <td>..</td>\n",
       "    </tr>\n",
       "    <tr>\n",
       "      <th>4</th>\n",
       "      <td>Afghanistan</td>\n",
       "      <td>AFG</td>\n",
       "      <td>Agricultural land (% of land area)</td>\n",
       "      <td>AG.LND.AGRI.ZS</td>\n",
       "      <td>58.08380479</td>\n",
       "      <td>58.15126566</td>\n",
       "      <td>58.13440044</td>\n",
       "      <td>58.12366803</td>\n",
       "      <td>58.12980084</td>\n",
       "      <td>58.13286724</td>\n",
       "      <td>...</td>\n",
       "      <td>58.12366803</td>\n",
       "      <td>58.12366803</td>\n",
       "      <td>58.12366803</td>\n",
       "      <td>58.12366803</td>\n",
       "      <td>58.27698818</td>\n",
       "      <td>58.27698818</td>\n",
       "      <td>58.74154823</td>\n",
       "      <td>58.74154823</td>\n",
       "      <td>..</td>\n",
       "      <td>..</td>\n",
       "    </tr>\n",
       "  </tbody>\n",
       "</table>\n",
       "<p>5 rows × 25 columns</p>\n",
       "</div>"
      ],
      "text/plain": [
       "  Country Name Country Code  \\\n",
       "0  Afghanistan          AFG   \n",
       "1  Afghanistan          AFG   \n",
       "2  Afghanistan          AFG   \n",
       "3  Afghanistan          AFG   \n",
       "4  Afghanistan          AFG   \n",
       "\n",
       "                                         Series Name        Series Code  \\\n",
       "0  Access to clean fuels and technologies for coo...     EG.CFT.ACCS.ZS   \n",
       "1            Access to electricity (% of population)     EG.ELC.ACCS.ZS   \n",
       "2  Adjusted savings: natural resources depletion ...  NY.ADJ.DRES.GN.ZS   \n",
       "3  Adjusted savings: net forest depletion (% of GNI)  NY.ADJ.DFOR.GN.ZS   \n",
       "4                 Agricultural land (% of land area)     AG.LND.AGRI.ZS   \n",
       "\n",
       "  2003 [YR2003] 2004 [YR2004] 2005 [YR2005] 2006 [YR2006] 2007 [YR2007]  \\\n",
       "0            10          11.1          12.5          13.9          15.3   \n",
       "1    18.9711647   23.81418228   28.66967201   33.54441833   38.44000244   \n",
       "2            ..            ..            ..            ..            ..   \n",
       "3            ..            ..            ..            ..            ..   \n",
       "4   58.08380479   58.15126566   58.13440044   58.12366803   58.12980084   \n",
       "\n",
       "  2008 [YR2008]  ... 2014 [YR2014] 2015 [YR2015] 2016 [YR2016] 2017 [YR2017]  \\\n",
       "0          16.8  ...          25.7         27.25          28.5            30   \n",
       "1          42.4  ...          89.5          71.5          97.7          97.7   \n",
       "2            ..  ...   0.315570916   0.290260985   0.363282086   0.350879165   \n",
       "3            ..  ...   0.216608988   0.232761963   0.284781431   0.229821541   \n",
       "4   58.13286724  ...   58.12366803   58.12366803   58.12366803   58.12366803   \n",
       "\n",
       "  2018 [YR2018] 2019 [YR2019] 2020 [YR2020] 2021 [YR2021] 2022 [YR2022]  \\\n",
       "0          31.1         32.45          33.8          35.4            ..   \n",
       "1   93.43087769          97.7          97.7          97.7            ..   \n",
       "2   0.401052962   0.370130823   0.243668383   0.335934935            ..   \n",
       "3   0.237614662   0.269353221    0.23795819   0.317732055            ..   \n",
       "4   58.27698818   58.27698818   58.74154823   58.74154823            ..   \n",
       "\n",
       "  2023 [YR2023]  \n",
       "0            ..  \n",
       "1            ..  \n",
       "2            ..  \n",
       "3            ..  \n",
       "4            ..  \n",
       "\n",
       "[5 rows x 25 columns]"
      ]
     },
     "execution_count": 4,
     "metadata": {},
     "output_type": "execute_result"
    }
   ],
   "source": [
    "#View the data\n",
    "raw_data.head()"
   ]
  },
  {
   "cell_type": "markdown",
   "id": "ce6bfbdf-798c-475f-adbb-86205c7c9798",
   "metadata": {},
   "source": [
    "## Get a sense of the data"
   ]
  },
  {
   "cell_type": "code",
   "execution_count": 5,
   "id": "58ebe61c-448b-4a2e-8878-e6cdc54fc085",
   "metadata": {},
   "outputs": [
    {
     "name": "stdout",
     "output_type": "stream",
     "text": [
      "Number of countries in this dataset: 207\n"
     ]
    }
   ],
   "source": [
    "# How many countries in the dataset?\n",
    "print(f\"Number of countries in this dataset: {raw_data['Country Name'].nunique()}\")\n",
    "#How many years in the dataset?\n",
    "#len(raw_data.columns)"
   ]
  },
  {
   "cell_type": "code",
   "execution_count": 6,
   "id": "5009e2d3-6049-4c5a-be41-b50b7df654d6",
   "metadata": {},
   "outputs": [
    {
     "data": {
      "text/plain": [
       "Index(['Country Name', 'Country Code', 'Series Name', 'Series Code',\n",
       "       '2003 [YR2003]', '2004 [YR2004]', '2005 [YR2005]', '2006 [YR2006]',\n",
       "       '2007 [YR2007]', '2008 [YR2008]', '2009 [YR2009]', '2010 [YR2010]',\n",
       "       '2011 [YR2011]', '2012 [YR2012]', '2013 [YR2013]', '2014 [YR2014]',\n",
       "       '2015 [YR2015]', '2016 [YR2016]', '2017 [YR2017]', '2018 [YR2018]',\n",
       "       '2019 [YR2019]', '2020 [YR2020]', '2021 [YR2021]', '2022 [YR2022]',\n",
       "       '2023 [YR2023]'],\n",
       "      dtype='object')"
      ]
     },
     "execution_count": 6,
     "metadata": {},
     "output_type": "execute_result"
    }
   ],
   "source": [
    "#Print the column names \n",
    "raw_data.columns"
   ]
  },
  {
   "cell_type": "markdown",
   "id": "b8fe5256-a036-48a4-a40c-327b85717d34",
   "metadata": {},
   "source": [
    "## Create the first two dataframes"
   ]
  },
  {
   "cell_type": "code",
   "execution_count": 7,
   "id": "e09c5580-48a5-4230-bda4-369b1c66e52d",
   "metadata": {},
   "outputs": [],
   "source": [
    "#Create the coutry dataframe\n",
    "country_columns_df = raw_data[['Country Name', 'Country Code']]"
   ]
  },
  {
   "cell_type": "code",
   "execution_count": 8,
   "id": "0c655ada-193c-4c2c-bf3d-c4408a3eecb6",
   "metadata": {},
   "outputs": [
    {
     "data": {
      "text/html": [
       "<div>\n",
       "<style scoped>\n",
       "    .dataframe tbody tr th:only-of-type {\n",
       "        vertical-align: middle;\n",
       "    }\n",
       "\n",
       "    .dataframe tbody tr th {\n",
       "        vertical-align: top;\n",
       "    }\n",
       "\n",
       "    .dataframe thead th {\n",
       "        text-align: right;\n",
       "    }\n",
       "</style>\n",
       "<table border=\"1\" class=\"dataframe\">\n",
       "  <thead>\n",
       "    <tr style=\"text-align: right;\">\n",
       "      <th></th>\n",
       "      <th>Country Name</th>\n",
       "      <th>Country Code</th>\n",
       "    </tr>\n",
       "  </thead>\n",
       "  <tbody>\n",
       "    <tr>\n",
       "      <th>0</th>\n",
       "      <td>Afghanistan</td>\n",
       "      <td>AFG</td>\n",
       "    </tr>\n",
       "    <tr>\n",
       "      <th>1</th>\n",
       "      <td>Afghanistan</td>\n",
       "      <td>AFG</td>\n",
       "    </tr>\n",
       "    <tr>\n",
       "      <th>2</th>\n",
       "      <td>Afghanistan</td>\n",
       "      <td>AFG</td>\n",
       "    </tr>\n",
       "    <tr>\n",
       "      <th>3</th>\n",
       "      <td>Afghanistan</td>\n",
       "      <td>AFG</td>\n",
       "    </tr>\n",
       "    <tr>\n",
       "      <th>4</th>\n",
       "      <td>Afghanistan</td>\n",
       "      <td>AFG</td>\n",
       "    </tr>\n",
       "  </tbody>\n",
       "</table>\n",
       "</div>"
      ],
      "text/plain": [
       "  Country Name Country Code\n",
       "0  Afghanistan          AFG\n",
       "1  Afghanistan          AFG\n",
       "2  Afghanistan          AFG\n",
       "3  Afghanistan          AFG\n",
       "4  Afghanistan          AFG"
      ]
     },
     "execution_count": 8,
     "metadata": {},
     "output_type": "execute_result"
    }
   ],
   "source": [
    "country_columns_df.head()"
   ]
  },
  {
   "cell_type": "code",
   "execution_count": 9,
   "id": "c44c38ae-28ac-4da5-8313-a2cc278e374c",
   "metadata": {},
   "outputs": [],
   "source": [
    "#Get only the unique values, so each country appears only once\n",
    "country_df = country_columns_df.drop_duplicates(inplace=False)"
   ]
  },
  {
   "cell_type": "code",
   "execution_count": 10,
   "id": "39644ad7-7a69-4c6f-ad16-7a523c06c5e4",
   "metadata": {},
   "outputs": [
    {
     "name": "stdout",
     "output_type": "stream",
     "text": [
      "                                            Country Name Country Code\n",
      "0                                            Afghanistan          AFG\n",
      "71                                               Albania          ALB\n",
      "142                                              Algeria          DZA\n",
      "213                                              Andorra          AND\n",
      "284                                               Angola          AGO\n",
      "...                                                  ...          ...\n",
      "14413                                             Zambia          ZMB\n",
      "14484                                           Zimbabwe          ZWE\n",
      "14555                                                NaN          NaN\n",
      "14558  Data from database: Environment Social and Gov...          NaN\n",
      "14559                           Last Updated: 04/16/2024          NaN\n",
      "\n",
      "[208 rows x 2 columns]\n"
     ]
    }
   ],
   "source": [
    "print(country_df)"
   ]
  },
  {
   "cell_type": "code",
   "execution_count": 11,
   "id": "ee4591b0-5f43-4ce3-95f4-af2c3230b0d2",
   "metadata": {},
   "outputs": [
    {
     "data": {
      "text/plain": [
       "(208, 2)"
      ]
     },
     "execution_count": 11,
     "metadata": {},
     "output_type": "execute_result"
    }
   ],
   "source": [
    "#Check the newly created dataframe\n",
    "country_df.shape"
   ]
  },
  {
   "cell_type": "code",
   "execution_count": 12,
   "id": "9b1581ae-d21e-45ae-98a0-2cd510db1848",
   "metadata": {},
   "outputs": [
    {
     "data": {
      "text/html": [
       "<div>\n",
       "<style scoped>\n",
       "    .dataframe tbody tr th:only-of-type {\n",
       "        vertical-align: middle;\n",
       "    }\n",
       "\n",
       "    .dataframe tbody tr th {\n",
       "        vertical-align: top;\n",
       "    }\n",
       "\n",
       "    .dataframe thead th {\n",
       "        text-align: right;\n",
       "    }\n",
       "</style>\n",
       "<table border=\"1\" class=\"dataframe\">\n",
       "  <thead>\n",
       "    <tr style=\"text-align: right;\">\n",
       "      <th></th>\n",
       "      <th>Country Name</th>\n",
       "      <th>Country Code</th>\n",
       "    </tr>\n",
       "  </thead>\n",
       "  <tbody>\n",
       "    <tr>\n",
       "      <th>14058</th>\n",
       "      <td>Uzbekistan</td>\n",
       "      <td>UZB</td>\n",
       "    </tr>\n",
       "    <tr>\n",
       "      <th>14129</th>\n",
       "      <td>Vanuatu</td>\n",
       "      <td>VUT</td>\n",
       "    </tr>\n",
       "    <tr>\n",
       "      <th>14200</th>\n",
       "      <td>Venezuela, RB</td>\n",
       "      <td>VEN</td>\n",
       "    </tr>\n",
       "    <tr>\n",
       "      <th>14271</th>\n",
       "      <td>Viet Nam</td>\n",
       "      <td>VNM</td>\n",
       "    </tr>\n",
       "    <tr>\n",
       "      <th>14342</th>\n",
       "      <td>Yemen, Rep.</td>\n",
       "      <td>YEM</td>\n",
       "    </tr>\n",
       "    <tr>\n",
       "      <th>14413</th>\n",
       "      <td>Zambia</td>\n",
       "      <td>ZMB</td>\n",
       "    </tr>\n",
       "    <tr>\n",
       "      <th>14484</th>\n",
       "      <td>Zimbabwe</td>\n",
       "      <td>ZWE</td>\n",
       "    </tr>\n",
       "    <tr>\n",
       "      <th>14555</th>\n",
       "      <td>NaN</td>\n",
       "      <td>NaN</td>\n",
       "    </tr>\n",
       "    <tr>\n",
       "      <th>14558</th>\n",
       "      <td>Data from database: Environment Social and Gov...</td>\n",
       "      <td>NaN</td>\n",
       "    </tr>\n",
       "    <tr>\n",
       "      <th>14559</th>\n",
       "      <td>Last Updated: 04/16/2024</td>\n",
       "      <td>NaN</td>\n",
       "    </tr>\n",
       "  </tbody>\n",
       "</table>\n",
       "</div>"
      ],
      "text/plain": [
       "                                            Country Name Country Code\n",
       "14058                                         Uzbekistan          UZB\n",
       "14129                                            Vanuatu          VUT\n",
       "14200                                      Venezuela, RB          VEN\n",
       "14271                                           Viet Nam          VNM\n",
       "14342                                        Yemen, Rep.          YEM\n",
       "14413                                             Zambia          ZMB\n",
       "14484                                           Zimbabwe          ZWE\n",
       "14555                                                NaN          NaN\n",
       "14558  Data from database: Environment Social and Gov...          NaN\n",
       "14559                           Last Updated: 04/16/2024          NaN"
      ]
     },
     "execution_count": 12,
     "metadata": {},
     "output_type": "execute_result"
    }
   ],
   "source": [
    "#Check the last few and first few rows\n",
    "country_df.tail(10)"
   ]
  },
  {
   "cell_type": "code",
   "execution_count": 13,
   "id": "93ecb0e7-bb27-498d-ab7d-f1a89607bb4d",
   "metadata": {},
   "outputs": [
    {
     "data": {
      "text/html": [
       "<div>\n",
       "<style scoped>\n",
       "    .dataframe tbody tr th:only-of-type {\n",
       "        vertical-align: middle;\n",
       "    }\n",
       "\n",
       "    .dataframe tbody tr th {\n",
       "        vertical-align: top;\n",
       "    }\n",
       "\n",
       "    .dataframe thead th {\n",
       "        text-align: right;\n",
       "    }\n",
       "</style>\n",
       "<table border=\"1\" class=\"dataframe\">\n",
       "  <thead>\n",
       "    <tr style=\"text-align: right;\">\n",
       "      <th></th>\n",
       "      <th>Country Name</th>\n",
       "      <th>Country Code</th>\n",
       "    </tr>\n",
       "  </thead>\n",
       "  <tbody>\n",
       "    <tr>\n",
       "      <th>0</th>\n",
       "      <td>Afghanistan</td>\n",
       "      <td>AFG</td>\n",
       "    </tr>\n",
       "    <tr>\n",
       "      <th>71</th>\n",
       "      <td>Albania</td>\n",
       "      <td>ALB</td>\n",
       "    </tr>\n",
       "    <tr>\n",
       "      <th>142</th>\n",
       "      <td>Algeria</td>\n",
       "      <td>DZA</td>\n",
       "    </tr>\n",
       "    <tr>\n",
       "      <th>213</th>\n",
       "      <td>Andorra</td>\n",
       "      <td>AND</td>\n",
       "    </tr>\n",
       "    <tr>\n",
       "      <th>284</th>\n",
       "      <td>Angola</td>\n",
       "      <td>AGO</td>\n",
       "    </tr>\n",
       "  </tbody>\n",
       "</table>\n",
       "</div>"
      ],
      "text/plain": [
       "    Country Name Country Code\n",
       "0    Afghanistan          AFG\n",
       "71       Albania          ALB\n",
       "142      Algeria          DZA\n",
       "213      Andorra          AND\n",
       "284       Angola          AGO"
      ]
     },
     "execution_count": 13,
     "metadata": {},
     "output_type": "execute_result"
    }
   ],
   "source": [
    "country_df.head()"
   ]
  },
  {
   "cell_type": "code",
   "execution_count": 55,
   "id": "0bbd4609-1dbc-4667-92b2-837e674ba621",
   "metadata": {},
   "outputs": [],
   "source": [
    "#Export as csv\n",
    "country_df.to_csv(\"../Output/countries.csv\")"
   ]
  },
  {
   "cell_type": "code",
   "execution_count": 14,
   "id": "103a1228-5dcc-4500-b3b0-49594818fd70",
   "metadata": {},
   "outputs": [],
   "source": [
    "#Now create the second dataframe - Create the Indicator datafrane\n",
    "series_columns_df = raw_data[['Series Name', 'Series Code']]"
   ]
  },
  {
   "cell_type": "code",
   "execution_count": 15,
   "id": "7688b95c-64f7-445b-b206-8bd97895b324",
   "metadata": {},
   "outputs": [
    {
     "data": {
      "text/html": [
       "<div>\n",
       "<style scoped>\n",
       "    .dataframe tbody tr th:only-of-type {\n",
       "        vertical-align: middle;\n",
       "    }\n",
       "\n",
       "    .dataframe tbody tr th {\n",
       "        vertical-align: top;\n",
       "    }\n",
       "\n",
       "    .dataframe thead th {\n",
       "        text-align: right;\n",
       "    }\n",
       "</style>\n",
       "<table border=\"1\" class=\"dataframe\">\n",
       "  <thead>\n",
       "    <tr style=\"text-align: right;\">\n",
       "      <th></th>\n",
       "      <th>Series Name</th>\n",
       "      <th>Series Code</th>\n",
       "    </tr>\n",
       "  </thead>\n",
       "  <tbody>\n",
       "    <tr>\n",
       "      <th>0</th>\n",
       "      <td>Access to clean fuels and technologies for coo...</td>\n",
       "      <td>EG.CFT.ACCS.ZS</td>\n",
       "    </tr>\n",
       "    <tr>\n",
       "      <th>1</th>\n",
       "      <td>Access to electricity (% of population)</td>\n",
       "      <td>EG.ELC.ACCS.ZS</td>\n",
       "    </tr>\n",
       "    <tr>\n",
       "      <th>2</th>\n",
       "      <td>Adjusted savings: natural resources depletion ...</td>\n",
       "      <td>NY.ADJ.DRES.GN.ZS</td>\n",
       "    </tr>\n",
       "    <tr>\n",
       "      <th>3</th>\n",
       "      <td>Adjusted savings: net forest depletion (% of GNI)</td>\n",
       "      <td>NY.ADJ.DFOR.GN.ZS</td>\n",
       "    </tr>\n",
       "    <tr>\n",
       "      <th>4</th>\n",
       "      <td>Agricultural land (% of land area)</td>\n",
       "      <td>AG.LND.AGRI.ZS</td>\n",
       "    </tr>\n",
       "  </tbody>\n",
       "</table>\n",
       "</div>"
      ],
      "text/plain": [
       "                                         Series Name        Series Code\n",
       "0  Access to clean fuels and technologies for coo...     EG.CFT.ACCS.ZS\n",
       "1            Access to electricity (% of population)     EG.ELC.ACCS.ZS\n",
       "2  Adjusted savings: natural resources depletion ...  NY.ADJ.DRES.GN.ZS\n",
       "3  Adjusted savings: net forest depletion (% of GNI)  NY.ADJ.DFOR.GN.ZS\n",
       "4                 Agricultural land (% of land area)     AG.LND.AGRI.ZS"
      ]
     },
     "execution_count": 15,
     "metadata": {},
     "output_type": "execute_result"
    }
   ],
   "source": [
    "series_columns_df.head()"
   ]
  },
  {
   "cell_type": "code",
   "execution_count": 16,
   "id": "0cb38ecf-1bec-4caa-9755-baf61f9069f9",
   "metadata": {},
   "outputs": [],
   "source": [
    "indicator_df = series_columns_df.drop_duplicates()"
   ]
  },
  {
   "cell_type": "code",
   "execution_count": 17,
   "id": "5d6c0a32-f5ea-4439-8a48-c6f4469fbd5f",
   "metadata": {},
   "outputs": [
    {
     "name": "stdout",
     "output_type": "stream",
     "text": [
      "                                             Series Name        Series Code\n",
      "0      Access to clean fuels and technologies for coo...     EG.CFT.ACCS.ZS\n",
      "1                Access to electricity (% of population)     EG.ELC.ACCS.ZS\n",
      "2      Adjusted savings: natural resources depletion ...  NY.ADJ.DRES.GN.ZS\n",
      "3      Adjusted savings: net forest depletion (% of GNI)  NY.ADJ.DFOR.GN.ZS\n",
      "4                     Agricultural land (% of land area)     AG.LND.AGRI.ZS\n",
      "...                                                  ...                ...\n",
      "67                            Tree Cover Loss (hectares)     AG.LND.FRLS.HA\n",
      "68     Unemployment, total (% of total labor force) (...     SL.UEM.TOTL.ZS\n",
      "69     Unmet need for contraception (% of married wom...        SP.UWT.TFRT\n",
      "70                    Voice and Accountability: Estimate             VA.EST\n",
      "14555                                                NaN                NaN\n",
      "\n",
      "[72 rows x 2 columns]\n"
     ]
    }
   ],
   "source": [
    "print(indicator_df)"
   ]
  },
  {
   "cell_type": "code",
   "execution_count": 54,
   "id": "93d5c301-b8df-41ef-bd4d-58f2f53ce740",
   "metadata": {},
   "outputs": [],
   "source": [
    "#Export as csv\n",
    "indicator_df.to_csv(\"../Output/indicators.csv\")"
   ]
  },
  {
   "cell_type": "code",
   "execution_count": 18,
   "id": "611fa6a0-c634-44c6-8305-79123360e375",
   "metadata": {},
   "outputs": [
    {
     "data": {
      "text/html": [
       "<div>\n",
       "<style scoped>\n",
       "    .dataframe tbody tr th:only-of-type {\n",
       "        vertical-align: middle;\n",
       "    }\n",
       "\n",
       "    .dataframe tbody tr th {\n",
       "        vertical-align: top;\n",
       "    }\n",
       "\n",
       "    .dataframe thead th {\n",
       "        text-align: right;\n",
       "    }\n",
       "</style>\n",
       "<table border=\"1\" class=\"dataframe\">\n",
       "  <thead>\n",
       "    <tr style=\"text-align: right;\">\n",
       "      <th></th>\n",
       "      <th>Series Name</th>\n",
       "      <th>Series Code</th>\n",
       "    </tr>\n",
       "  </thead>\n",
       "  <tbody>\n",
       "    <tr>\n",
       "      <th>67</th>\n",
       "      <td>Tree Cover Loss (hectares)</td>\n",
       "      <td>AG.LND.FRLS.HA</td>\n",
       "    </tr>\n",
       "    <tr>\n",
       "      <th>68</th>\n",
       "      <td>Unemployment, total (% of total labor force) (...</td>\n",
       "      <td>SL.UEM.TOTL.ZS</td>\n",
       "    </tr>\n",
       "    <tr>\n",
       "      <th>69</th>\n",
       "      <td>Unmet need for contraception (% of married wom...</td>\n",
       "      <td>SP.UWT.TFRT</td>\n",
       "    </tr>\n",
       "    <tr>\n",
       "      <th>70</th>\n",
       "      <td>Voice and Accountability: Estimate</td>\n",
       "      <td>VA.EST</td>\n",
       "    </tr>\n",
       "    <tr>\n",
       "      <th>14555</th>\n",
       "      <td>NaN</td>\n",
       "      <td>NaN</td>\n",
       "    </tr>\n",
       "  </tbody>\n",
       "</table>\n",
       "</div>"
      ],
      "text/plain": [
       "                                             Series Name     Series Code\n",
       "67                            Tree Cover Loss (hectares)  AG.LND.FRLS.HA\n",
       "68     Unemployment, total (% of total labor force) (...  SL.UEM.TOTL.ZS\n",
       "69     Unmet need for contraception (% of married wom...     SP.UWT.TFRT\n",
       "70                    Voice and Accountability: Estimate          VA.EST\n",
       "14555                                                NaN             NaN"
      ]
     },
     "execution_count": 18,
     "metadata": {},
     "output_type": "execute_result"
    }
   ],
   "source": [
    "indicator_df.tail()"
   ]
  },
  {
   "cell_type": "code",
   "execution_count": 19,
   "id": "3109e979-62b4-4fe4-83b6-a5beda16c31d",
   "metadata": {},
   "outputs": [],
   "source": [
    "#Import the csv with years\n",
    "year_data = Path(\"../Resources/Year.csv\")"
   ]
  },
  {
   "cell_type": "code",
   "execution_count": 20,
   "id": "2ba4a998-d6eb-459c-9ee6-bd2b5988b419",
   "metadata": {},
   "outputs": [
    {
     "name": "stdout",
     "output_type": "stream",
     "text": [
      "    Year\n",
      "0   2003\n",
      "1   2004\n",
      "2   2005\n",
      "3   2006\n",
      "4   2007\n",
      "5   2008\n",
      "6   2009\n",
      "7   2010\n",
      "8   2011\n",
      "9   2012\n",
      "10  2013\n",
      "11  2014\n",
      "12  2015\n",
      "13  2016\n",
      "14  2017\n",
      "15  2018\n",
      "16  2019\n",
      "17  2020\n",
      "18  2021\n",
      "19  2022\n",
      "20  2023\n"
     ]
    }
   ],
   "source": [
    "years = pd.read_csv(year_data)\n",
    "print(years)"
   ]
  },
  {
   "cell_type": "markdown",
   "id": "398e971b-a582-4ad1-b0a7-3b1eefc87983",
   "metadata": {},
   "source": [
    "## Now create the values dataframe"
   ]
  },
  {
   "cell_type": "code",
   "execution_count": 48,
   "id": "884415d8-a86b-4af8-a1dc-ad7ed3d88c01",
   "metadata": {},
   "outputs": [],
   "source": [
    "#Create a values list\n",
    "values = []"
   ]
  },
  {
   "cell_type": "code",
   "execution_count": 49,
   "id": "b6e6efe7-b131-4873-985c-de96f58abbe4",
   "metadata": {},
   "outputs": [],
   "source": [
    "#Create for the year 2003:\n",
    "#So for now, the year is hardcoded. Have to figure out how to iterate over the years\n",
    "for index, row in raw_data.iterrows():\n",
    "    country_code = row['Country Code']\n",
    "    series_code = row['Series Code']\n",
    "    #Year = row['C']\n",
    "    value = row['2003 [YR2003]']\n",
    "    values.append({\n",
    "    \"Country_Code\": country_code,\n",
    "    \"Series_Code\": series_code,\n",
    "    \"Year\": \"2003\",\n",
    "    \"Value\": value\n",
    "})\n",
    "\n"
   ]
  },
  {
   "cell_type": "code",
   "execution_count": null,
   "id": "597ca69c-75f2-4c4a-a7ca-ba36f4dd0193",
   "metadata": {},
   "outputs": [],
   "source": [
    "print(values)"
   ]
  },
  {
   "cell_type": "code",
   "execution_count": 52,
   "id": "99dd72c1-aeb6-4256-926f-caa0ee4a4385",
   "metadata": {},
   "outputs": [
    {
     "data": {
      "text/html": [
       "<div>\n",
       "<style scoped>\n",
       "    .dataframe tbody tr th:only-of-type {\n",
       "        vertical-align: middle;\n",
       "    }\n",
       "\n",
       "    .dataframe tbody tr th {\n",
       "        vertical-align: top;\n",
       "    }\n",
       "\n",
       "    .dataframe thead th {\n",
       "        text-align: right;\n",
       "    }\n",
       "</style>\n",
       "<table border=\"1\" class=\"dataframe\">\n",
       "  <thead>\n",
       "    <tr style=\"text-align: right;\">\n",
       "      <th></th>\n",
       "      <th>Country_Code</th>\n",
       "      <th>Series_Code</th>\n",
       "      <th>Year</th>\n",
       "      <th>Value</th>\n",
       "    </tr>\n",
       "  </thead>\n",
       "  <tbody>\n",
       "    <tr>\n",
       "      <th>0</th>\n",
       "      <td>AFG</td>\n",
       "      <td>EG.CFT.ACCS.ZS</td>\n",
       "      <td>2003</td>\n",
       "      <td>10</td>\n",
       "    </tr>\n",
       "    <tr>\n",
       "      <th>1</th>\n",
       "      <td>AFG</td>\n",
       "      <td>EG.ELC.ACCS.ZS</td>\n",
       "      <td>2003</td>\n",
       "      <td>18.9711647</td>\n",
       "    </tr>\n",
       "    <tr>\n",
       "      <th>2</th>\n",
       "      <td>AFG</td>\n",
       "      <td>NY.ADJ.DRES.GN.ZS</td>\n",
       "      <td>2003</td>\n",
       "      <td>..</td>\n",
       "    </tr>\n",
       "    <tr>\n",
       "      <th>3</th>\n",
       "      <td>AFG</td>\n",
       "      <td>NY.ADJ.DFOR.GN.ZS</td>\n",
       "      <td>2003</td>\n",
       "      <td>..</td>\n",
       "    </tr>\n",
       "    <tr>\n",
       "      <th>4</th>\n",
       "      <td>AFG</td>\n",
       "      <td>AG.LND.AGRI.ZS</td>\n",
       "      <td>2003</td>\n",
       "      <td>58.08380479</td>\n",
       "    </tr>\n",
       "  </tbody>\n",
       "</table>\n",
       "</div>"
      ],
      "text/plain": [
       "  Country_Code        Series_Code  Year        Value\n",
       "0          AFG     EG.CFT.ACCS.ZS  2003           10\n",
       "1          AFG     EG.ELC.ACCS.ZS  2003   18.9711647\n",
       "2          AFG  NY.ADJ.DRES.GN.ZS  2003           ..\n",
       "3          AFG  NY.ADJ.DFOR.GN.ZS  2003           ..\n",
       "4          AFG     AG.LND.AGRI.ZS  2003  58.08380479"
      ]
     },
     "execution_count": 52,
     "metadata": {},
     "output_type": "execute_result"
    }
   ],
   "source": [
    "values_df = pd.DataFrame(values)\n",
    "values_df.head()\n",
    "#values_df.shape"
   ]
  },
  {
   "cell_type": "code",
   "execution_count": 53,
   "id": "d5b9c99a-6d56-41c6-a8e7-fca68afa4335",
   "metadata": {},
   "outputs": [],
   "source": [
    "values_df.to_csv(\"../Output/values.csv\")"
   ]
  },
  {
   "cell_type": "markdown",
   "id": "901e68c9-667f-4449-b927-ebd5c777e280",
   "metadata": {},
   "source": [
    "## rough notes"
   ]
  },
  {
   "cell_type": "code",
   "execution_count": null,
   "id": "ceda8348-9644-44db-8a9d-5c5871a9104e",
   "metadata": {},
   "outputs": [],
   "source": [
    "#One approach is to go through each year column:\n",
    "#go through column \"2003 [YR2003]\"\n",
    "#parse values like this: Country_Code = raw_data[\"Country Code\"]\n",
    "#Series_code = raw_data[\"Series Code\"]\n",
    "#Year = ...?\n",
    "#corresponding Series Code is series code, \n",
    "#corresponding COuntry code is country code\n",
    "\n",
    "#Dont use this, it breaks jupyter\n",
    "#for column in raw_data[\"2003 [YR2003]\"]:\n",
    "    #print(f\"The values are: {raw_data['2003 [YR2003]'].tolist()}\")\n",
    "\n",
    "#for column in years['Year']:\n",
    "    #print(f\"The values are: {years['Year'].tolist()}\")\n",
    "\n",
    "#This worked:\n",
    "#for column in years:\n",
    "    #print(f\"The values are: {years[column].tolist()}\")\n",
    "\n",
    "#this did not work:\n",
    "#for column in years[\"Year\"]:\n",
    "    #print(f\"The values are: {years[column].tolist()}\")\n",
    "\n",
    "#So how to iterate over specific column?\n",
    "#This works:\n",
    "#for column in years.loc[:, [\"Year\"]]:\n",
    "    #print(f\"The values are: {years[column].tolist()}\")\n",
    "#And this also works:\n",
    "for column in raw_data.loc[:, [\"2003 [YR2003]\"]]:\n",
    "    print(f\"The values are: {raw_data[column].tolist()}\")\n",
    "  \n",
    "#Second approach is to go through each row:\n",
    "#go through each row of raw_data by creating a for loop or enumerate: \n",
    "#parse values like this: Country_Code = raw_data[\"Country Code\"]\n",
    "#Series_code = raw_data[\"Series Code\"]\n",
    "#Year = ...?\n",
    "#how to get values? \n",
    "#assign values.append \n",
    "\n",
    "#this will go in the enumerate/for loop:\n",
    "#values.append({\n",
    "    #\"Country_Code\": country_code,\n",
    "    #\"Series_Code\": series_code,\n",
    "    #\"Year\": column_name,\n",
    "    #\"Value\": value\n",
    "#})"
   ]
  }
 ],
 "metadata": {
  "kernelspec": {
   "display_name": "Python 3 (ipykernel)",
   "language": "python",
   "name": "python3"
  },
  "language_info": {
   "codemirror_mode": {
    "name": "ipython",
    "version": 3
   },
   "file_extension": ".py",
   "mimetype": "text/x-python",
   "name": "python",
   "nbconvert_exporter": "python",
   "pygments_lexer": "ipython3",
   "version": "3.11.7"
  }
 },
 "nbformat": 4,
 "nbformat_minor": 5
}
